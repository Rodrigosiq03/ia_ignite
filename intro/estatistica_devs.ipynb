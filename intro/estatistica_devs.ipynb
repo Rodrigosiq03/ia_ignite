{
 "cells": [
  {
   "cell_type": "code",
   "execution_count": 1,
   "id": "initial_id",
   "metadata": {
    "collapsed": true,
    "ExecuteTime": {
     "end_time": "2024-03-16T14:06:46.403010Z",
     "start_time": "2024-03-16T14:06:44.898109Z"
    }
   },
   "outputs": [],
   "source": [
    "import pandas as pd"
   ]
  },
  {
   "cell_type": "code",
   "outputs": [
    {
     "data": {
      "text/plain": "'2.2.1'"
     },
     "execution_count": 2,
     "metadata": {},
     "output_type": "execute_result"
    }
   ],
   "source": [
    "pd.__version__"
   ],
   "metadata": {
    "collapsed": false,
    "ExecuteTime": {
     "end_time": "2024-03-16T14:07:30.212968Z",
     "start_time": "2024-03-16T14:07:30.199791Z"
    }
   },
   "id": "b0bcb146be87a65a",
   "execution_count": 2
  },
  {
   "cell_type": "code",
   "outputs": [
    {
     "data": {
      "text/plain": "{'idade': [15, 18, 25, 25, 48, 55, 58, 60, 80],\n 'altura': [160, 162, 165, 168, 172, 174, 174, 174, 176]}"
     },
     "execution_count": 3,
     "metadata": {},
     "output_type": "execute_result"
    }
   ],
   "source": [
    "dict_medidas = { 'idade': [15, 18, 25, 25, 48, 55, 58, 60, 80], 'altura': [160, 162, 165, 168, 172, 174, 174, 174, 176] }\n",
    "dict_medidas"
   ],
   "metadata": {
    "collapsed": false,
    "ExecuteTime": {
     "end_time": "2024-03-16T14:12:29.652715Z",
     "start_time": "2024-03-16T14:12:29.541917Z"
    }
   },
   "id": "3ac1838f8df1892",
   "execution_count": 3
  },
  {
   "cell_type": "code",
   "outputs": [
    {
     "data": {
      "text/plain": "   idade  altura\n0     15     160\n1     18     162\n2     25     165\n3     25     168\n4     48     172\n5     55     174\n6     58     174\n7     60     174\n8     80     176",
      "text/html": "<div>\n<style scoped>\n    .dataframe tbody tr th:only-of-type {\n        vertical-align: middle;\n    }\n\n    .dataframe tbody tr th {\n        vertical-align: top;\n    }\n\n    .dataframe thead th {\n        text-align: right;\n    }\n</style>\n<table border=\"1\" class=\"dataframe\">\n  <thead>\n    <tr style=\"text-align: right;\">\n      <th></th>\n      <th>idade</th>\n      <th>altura</th>\n    </tr>\n  </thead>\n  <tbody>\n    <tr>\n      <th>0</th>\n      <td>15</td>\n      <td>160</td>\n    </tr>\n    <tr>\n      <th>1</th>\n      <td>18</td>\n      <td>162</td>\n    </tr>\n    <tr>\n      <th>2</th>\n      <td>25</td>\n      <td>165</td>\n    </tr>\n    <tr>\n      <th>3</th>\n      <td>25</td>\n      <td>168</td>\n    </tr>\n    <tr>\n      <th>4</th>\n      <td>48</td>\n      <td>172</td>\n    </tr>\n    <tr>\n      <th>5</th>\n      <td>55</td>\n      <td>174</td>\n    </tr>\n    <tr>\n      <th>6</th>\n      <td>58</td>\n      <td>174</td>\n    </tr>\n    <tr>\n      <th>7</th>\n      <td>60</td>\n      <td>174</td>\n    </tr>\n    <tr>\n      <th>8</th>\n      <td>80</td>\n      <td>176</td>\n    </tr>\n  </tbody>\n</table>\n</div>"
     },
     "execution_count": 4,
     "metadata": {},
     "output_type": "execute_result"
    }
   ],
   "source": [
    "df_medidas = pd.DataFrame.from_dict(dict_medidas)\n",
    "\n",
    "df_medidas"
   ],
   "metadata": {
    "collapsed": false,
    "ExecuteTime": {
     "end_time": "2024-03-16T14:13:22.811961Z",
     "start_time": "2024-03-16T14:13:22.548130Z"
    }
   },
   "id": "4a38e416fbc3fbdd",
   "execution_count": 4
  },
  {
   "cell_type": "code",
   "outputs": [],
   "source": [],
   "metadata": {
    "collapsed": false
   },
   "id": "d56d6305a79f0327"
  }
 ],
 "metadata": {
  "kernelspec": {
   "display_name": "Python 3",
   "language": "python",
   "name": "python3"
  },
  "language_info": {
   "codemirror_mode": {
    "name": "ipython",
    "version": 2
   },
   "file_extension": ".py",
   "mimetype": "text/x-python",
   "name": "python",
   "nbconvert_exporter": "python",
   "pygments_lexer": "ipython2",
   "version": "2.7.6"
  }
 },
 "nbformat": 4,
 "nbformat_minor": 5
}
